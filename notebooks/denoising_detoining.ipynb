{
 "cells": [
  {
   "cell_type": "code",
   "execution_count": 1,
   "metadata": {
    "collapsed": true
   },
   "outputs": [
    {
     "name": "stderr",
     "output_type": "stream",
     "text": [
      "/Users/aennassiri/anaconda3/envs/Research/lib/python3.8/site-packages/sklearn/utils/deprecation.py:143: FutureWarning: The sklearn.neighbors.kde module is  deprecated in version 0.22 and will be removed in version 0.24. The corresponding classes / functions should instead be imported from sklearn.neighbors. Anything that cannot be imported from sklearn.neighbors is now part of the private API.\n",
      "  warnings.warn(message, FutureWarning)\n"
     ]
    }
   ],
   "source": [
    "import numpy as np\n",
    "import pandas as pd\n",
    "from sklearn.neighbors.kde import KernelDensity\n",
    "import matplotlib.pyplot as plt"
   ]
  },
  {
   "cell_type": "markdown",
   "source": [],
   "metadata": {
    "collapsed": false
   }
  },
  {
   "cell_type": "code",
   "execution_count": 2,
   "outputs": [],
   "source": [
    "def mp_pdf(var, q, points):\n",
    "    \"\"\"\n",
    "    Marcenko-Pastur\n",
    "    :param var: The variance\n",
    "    :type var: float\n",
    "    :param q: N/T number of observations on the number of dates\n",
    "    :type q: float\n",
    "    :param points:\n",
    "    :type points: int\n",
    "    :return:The Marcenko-Pastur probability density function\n",
    "    :rtype: pd.Series\n",
    "    \"\"\"\n",
    "\n",
    "    eigen_min = var * (1-(1./q)**.5)**2\n",
    "    eigen_max = var * (1+(1./q)**.5)**2\n",
    "    eigen_values = np.linspace(eigen_min, eigen_max, points)\n",
    "    pdf = q/(2*np.pi*var*eigen_values)*((eigen_max-eigen_values)*(eigen_values-eigen_min))**.5\n",
    "    pdf = pd.Series(pdf, index=eigen_values)\n",
    "    return pdf\n",
    "\n",
    "def get_pca(matrix):\n",
    "    \"\"\"\n",
    "    Function to retreive the eigenvalues and eigenvector from a Hermitian matrix\n",
    "    :param matrix: Hermitian matrix\n",
    "    :type matrix:\n",
    "    :return:\n",
    "    :rtype:\n",
    "    \"\"\"\n",
    "    eigenvalues, eigenvectors = np.linalg.eigh(matrix)\n",
    "    indices = eigenvalues.argsort()[::-1]\n",
    "    eigenvalues, eigenvectors = eigenvalues[indices], eigenvectors[:, indices]\n",
    "    eigenvalues = np.diagflat(eigenvalues)\n",
    "    return eigenvalues, eigenvectors\n",
    "\n",
    "def fit_kde(obs, bandwidth=0.25, kernel='gaussian', x=None):\n",
    "    \"\"\"\n",
    "    Fit kernel to a series of observations and derive the probablity of obs\n",
    "    :param obs:\n",
    "    :type obs:\n",
    "    :param bandwidth:\n",
    "    :type bandwidth:\n",
    "    :param kernel:\n",
    "    :type kernel:\n",
    "    :param x:\n",
    "    :type x:\n",
    "    :return:\n",
    "    :rtype:\n",
    "    \"\"\"\n",
    "    if len(obs.shape) == 1:\n",
    "        obs=obs.reshape(-1,1)\n",
    "    kde = KernelDensity(kernel=kernel, bandwidth=bandwidth).fit(obs)\n",
    "    if x is None:\n",
    "        x = np.unique(obs).reshape(-1, 1)\n",
    "    log_prob = kde.score_samples(x)\n",
    "    pdf = pd.Series(np.exp(log_prob), index=x.flatten())\n",
    "    return pdf"
   ],
   "metadata": {
    "collapsed": false,
    "pycharm": {
     "name": "#%%\n"
    }
   }
  },
  {
   "cell_type": "code",
   "execution_count": 3,
   "outputs": [],
   "source": [
    "x = np.random.normal(size=(10000, 1000))\n",
    "eval0, evec0 = get_pca(np.corrcoef(x, rowvar=False))\n",
    "pdf0 = mp_pdf(1., q=x.shape[0]/float(x.shape[1]), points=1000)\n",
    "pdf1 = fit_kde(np.diag(eval0), bandwidth=0.01)\n"
   ],
   "metadata": {
    "collapsed": false,
    "pycharm": {
     "name": "#%%\n"
    }
   }
  },
  {
   "cell_type": "markdown",
   "source": [
    "## Testing a random matrix"
   ],
   "metadata": {
    "collapsed": false,
    "pycharm": {
     "name": "#%% md\n"
    }
   }
  },
  {
   "cell_type": "code",
   "execution_count": 4,
   "outputs": [
    {
     "data": {
      "text/plain": "[<matplotlib.lines.Line2D at 0x7f895fb023a0>]"
     },
     "execution_count": 4,
     "metadata": {},
     "output_type": "execute_result"
    },
    {
     "data": {
      "text/plain": "<Figure size 432x288 with 1 Axes>",
      "image/png": "[encoded data removed]"
     },
     "metadata": {
      "needs_background": "light"
     },
     "output_type": "display_data"
    }
   ],
   "source": [
    "%matplotlib inline\n",
    "fig = plt.figure()\n",
    "ax = fig.add_subplot()\n",
    "ax.plot(eval0.diagonal(), pdf0)\n",
    "ax.plot(eval0.diagonal(), pdf1)\n"
   ],
   "metadata": {
    "collapsed": false,
    "pycharm": {
     "name": "#%%\n"
    }
   }
  },
  {
   "cell_type": "markdown",
   "source": [
    "## Testing with a random matrix with a signal"
   ],
   "metadata": {
    "collapsed": false
   }
  },
  {
   "cell_type": "code",
   "execution_count": 5,
   "outputs": [],
   "source": [
    "def get_random_covariance(columns_number, facts_number):\n",
    "    \"\"\"\n",
    "    Get a random covariance and add signal to it\n",
    "    :param columns_number:\n",
    "    :type columns_number:\n",
    "    :param facts_number:\n",
    "    :type facts_number:\n",
    "    :return:\n",
    "    :rtype:\n",
    "    \"\"\"\n",
    "    w = np.random.normal(size=(columns_number, facts_number))\n",
    "    covariance = np.dot(w, w.T)\n",
    "    covariance += np.diag(np.random.uniform(size=columns_number))\n",
    "    return covariance\n",
    "\n",
    "def cov_to_corr(covariance):\n",
    "    std = np.sqrt(np.diag(covariance))\n",
    "    correlation = covariance/np.outer(std, std)\n",
    "    correlation[correlation<-1], correlation[correlation>1] = -1, 1\n",
    "    return correlation"
   ],
   "metadata": {
    "collapsed": false,
    "pycharm": {
     "name": "#%%\n"
    }
   }
  },
  {
   "cell_type": "code",
   "execution_count": 6,
   "outputs": [
    {
     "ename": "ValueError",
     "evalue": "Index data must be 1-dimensional",
     "output_type": "error",
     "traceback": [
      "\u001B[0;31m---------------------------------------------------------------------------\u001B[0m",
      "\u001B[0;31mValueError\u001B[0m                                Traceback (most recent call last)",
      "\u001B[0;32m<ipython-input-6-3ade15be3262>\u001B[0m in \u001B[0;36m<module>\u001B[0;34m\u001B[0m\n\u001B[1;32m     29\u001B[0m     \u001B[0;32mreturn\u001B[0m \u001B[0meigen_max\u001B[0m\u001B[0;34m,\u001B[0m \u001B[0mvar\u001B[0m\u001B[0;34m\u001B[0m\u001B[0;34m\u001B[0m\u001B[0m\n\u001B[1;32m     30\u001B[0m \u001B[0;34m\u001B[0m\u001B[0m\n\u001B[0;32m---> 31\u001B[0;31m \u001B[0memax0\u001B[0m\u001B[0;34m,\u001B[0m \u001B[0mvar0\u001B[0m \u001B[0;34m=\u001B[0m \u001B[0mfind_max_eval\u001B[0m\u001B[0;34m(\u001B[0m\u001B[0mnp\u001B[0m\u001B[0;34m.\u001B[0m\u001B[0mdiag\u001B[0m\u001B[0;34m(\u001B[0m\u001B[0meval0\u001B[0m\u001B[0;34m)\u001B[0m\u001B[0;34m,\u001B[0m \u001B[0mq\u001B[0m\u001B[0;34m,\u001B[0m \u001B[0mbandwidth\u001B[0m\u001B[0;34m=\u001B[0m\u001B[0;36m0.01\u001B[0m\u001B[0;34m)\u001B[0m\u001B[0;34m\u001B[0m\u001B[0;34m\u001B[0m\u001B[0m\n\u001B[0m\u001B[1;32m     32\u001B[0m \u001B[0mfacts_number0\u001B[0m \u001B[0;34m=\u001B[0m \u001B[0meval0\u001B[0m\u001B[0;34m.\u001B[0m\u001B[0mshape\u001B[0m\u001B[0;34m[\u001B[0m\u001B[0;36m0\u001B[0m\u001B[0;34m]\u001B[0m \u001B[0;34m-\u001B[0m \u001B[0mnp\u001B[0m\u001B[0;34m.\u001B[0m\u001B[0mdiag\u001B[0m\u001B[0;34m(\u001B[0m\u001B[0meval0\u001B[0m\u001B[0;34m)\u001B[0m\u001B[0;34m[\u001B[0m\u001B[0;34m:\u001B[0m\u001B[0;34m:\u001B[0m\u001B[0;34m-\u001B[0m\u001B[0;36m1\u001B[0m\u001B[0;34m]\u001B[0m\u001B[0;34m.\u001B[0m\u001B[0msearchsorted\u001B[0m\u001B[0;34m(\u001B[0m\u001B[0memax0\u001B[0m\u001B[0;34m)\u001B[0m\u001B[0;34m\u001B[0m\u001B[0;34m\u001B[0m\u001B[0m\n",
      "\u001B[0;32m<ipython-input-6-3ade15be3262>\u001B[0m in \u001B[0;36mfind_max_eval\u001B[0;34m(eigenvalues, q, bandwidth)\u001B[0m\n\u001B[1;32m     19\u001B[0m \u001B[0;34m\u001B[0m\u001B[0m\n\u001B[1;32m     20\u001B[0m \u001B[0;32mdef\u001B[0m \u001B[0mfind_max_eval\u001B[0m\u001B[0;34m(\u001B[0m\u001B[0meigenvalues\u001B[0m\u001B[0;34m,\u001B[0m \u001B[0mq\u001B[0m\u001B[0;34m,\u001B[0m \u001B[0mbandwidth\u001B[0m\u001B[0;34m)\u001B[0m\u001B[0;34m:\u001B[0m\u001B[0;34m\u001B[0m\u001B[0;34m\u001B[0m\u001B[0m\n\u001B[0;32m---> 21\u001B[0;31m     out = minimize(lambda *x: err_pdfs(*x), 0.5, args=(eigenvalues, q, bandwidth),\n\u001B[0m\u001B[1;32m     22\u001B[0m                    bounds=((1E-5, 1-1E-5),))\n\u001B[1;32m     23\u001B[0m \u001B[0;34m\u001B[0m\u001B[0m\n",
      "\u001B[0;32m~/anaconda3/envs/Research/lib/python3.8/site-packages/scipy/optimize/_minimize.py\u001B[0m in \u001B[0;36mminimize\u001B[0;34m(fun, x0, args, method, jac, hess, hessp, bounds, constraints, tol, callback, options)\u001B[0m\n\u001B[1;32m    615\u001B[0m                                   **options)\n\u001B[1;32m    616\u001B[0m     \u001B[0;32melif\u001B[0m \u001B[0mmeth\u001B[0m \u001B[0;34m==\u001B[0m \u001B[0;34m'l-bfgs-b'\u001B[0m\u001B[0;34m:\u001B[0m\u001B[0;34m\u001B[0m\u001B[0;34m\u001B[0m\u001B[0m\n\u001B[0;32m--> 617\u001B[0;31m         return _minimize_lbfgsb(fun, x0, args, jac, bounds,\n\u001B[0m\u001B[1;32m    618\u001B[0m                                 callback=callback, **options)\n\u001B[1;32m    619\u001B[0m     \u001B[0;32melif\u001B[0m \u001B[0mmeth\u001B[0m \u001B[0;34m==\u001B[0m \u001B[0;34m'tnc'\u001B[0m\u001B[0;34m:\u001B[0m\u001B[0;34m\u001B[0m\u001B[0;34m\u001B[0m\u001B[0m\n",
      "\u001B[0;32m~/anaconda3/envs/Research/lib/python3.8/site-packages/scipy/optimize/lbfgsb.py\u001B[0m in \u001B[0;36m_minimize_lbfgsb\u001B[0;34m(fun, x0, args, jac, bounds, disp, maxcor, ftol, gtol, eps, maxfun, maxiter, iprint, callback, maxls, finite_diff_rel_step, **unknown_options)\u001B[0m\n\u001B[1;32m    304\u001B[0m             \u001B[0miprint\u001B[0m \u001B[0;34m=\u001B[0m \u001B[0mdisp\u001B[0m\u001B[0;34m\u001B[0m\u001B[0;34m\u001B[0m\u001B[0m\n\u001B[1;32m    305\u001B[0m \u001B[0;34m\u001B[0m\u001B[0m\n\u001B[0;32m--> 306\u001B[0;31m     sf = _prepare_scalar_function(fun, x0, jac=jac, args=args, epsilon=eps,\n\u001B[0m\u001B[1;32m    307\u001B[0m                                   \u001B[0mbounds\u001B[0m\u001B[0;34m=\u001B[0m\u001B[0mnew_bounds\u001B[0m\u001B[0;34m,\u001B[0m\u001B[0;34m\u001B[0m\u001B[0;34m\u001B[0m\u001B[0m\n\u001B[1;32m    308\u001B[0m                                   finite_diff_rel_step=finite_diff_rel_step)\n",
      "\u001B[0;32m~/anaconda3/envs/Research/lib/python3.8/site-packages/scipy/optimize/optimize.py\u001B[0m in \u001B[0;36m_prepare_scalar_function\u001B[0;34m(fun, x0, jac, args, bounds, epsilon, finite_diff_rel_step, hess)\u001B[0m\n\u001B[1;32m    259\u001B[0m     \u001B[0;31m# ScalarFunction caches. Reuse of fun(x) during grad\u001B[0m\u001B[0;34m\u001B[0m\u001B[0;34m\u001B[0m\u001B[0;34m\u001B[0m\u001B[0m\n\u001B[1;32m    260\u001B[0m     \u001B[0;31m# calculation reduces overall function evaluations.\u001B[0m\u001B[0;34m\u001B[0m\u001B[0;34m\u001B[0m\u001B[0;34m\u001B[0m\u001B[0m\n\u001B[0;32m--> 261\u001B[0;31m     sf = ScalarFunction(fun, x0, args, grad, hess,\n\u001B[0m\u001B[1;32m    262\u001B[0m                         finite_diff_rel_step, bounds, epsilon=epsilon)\n\u001B[1;32m    263\u001B[0m \u001B[0;34m\u001B[0m\u001B[0m\n",
      "\u001B[0;32m~/anaconda3/envs/Research/lib/python3.8/site-packages/scipy/optimize/_differentiable_functions.py\u001B[0m in \u001B[0;36m__init__\u001B[0;34m(self, fun, x0, args, grad, hess, finite_diff_rel_step, finite_diff_bounds, epsilon)\u001B[0m\n\u001B[1;32m     74\u001B[0m \u001B[0;34m\u001B[0m\u001B[0m\n\u001B[1;32m     75\u001B[0m         \u001B[0mself\u001B[0m\u001B[0;34m.\u001B[0m\u001B[0m_update_fun_impl\u001B[0m \u001B[0;34m=\u001B[0m \u001B[0mupdate_fun\u001B[0m\u001B[0;34m\u001B[0m\u001B[0;34m\u001B[0m\u001B[0m\n\u001B[0;32m---> 76\u001B[0;31m         \u001B[0mself\u001B[0m\u001B[0;34m.\u001B[0m\u001B[0m_update_fun\u001B[0m\u001B[0;34m(\u001B[0m\u001B[0;34m)\u001B[0m\u001B[0;34m\u001B[0m\u001B[0;34m\u001B[0m\u001B[0m\n\u001B[0m\u001B[1;32m     77\u001B[0m \u001B[0;34m\u001B[0m\u001B[0m\n\u001B[1;32m     78\u001B[0m         \u001B[0;31m# Gradient evaluation\u001B[0m\u001B[0;34m\u001B[0m\u001B[0;34m\u001B[0m\u001B[0;34m\u001B[0m\u001B[0m\n",
      "\u001B[0;32m~/anaconda3/envs/Research/lib/python3.8/site-packages/scipy/optimize/_differentiable_functions.py\u001B[0m in \u001B[0;36m_update_fun\u001B[0;34m(self)\u001B[0m\n\u001B[1;32m    164\u001B[0m     \u001B[0;32mdef\u001B[0m \u001B[0m_update_fun\u001B[0m\u001B[0;34m(\u001B[0m\u001B[0mself\u001B[0m\u001B[0;34m)\u001B[0m\u001B[0;34m:\u001B[0m\u001B[0;34m\u001B[0m\u001B[0;34m\u001B[0m\u001B[0m\n\u001B[1;32m    165\u001B[0m         \u001B[0;32mif\u001B[0m \u001B[0;32mnot\u001B[0m \u001B[0mself\u001B[0m\u001B[0;34m.\u001B[0m\u001B[0mf_updated\u001B[0m\u001B[0;34m:\u001B[0m\u001B[0;34m\u001B[0m\u001B[0;34m\u001B[0m\u001B[0m\n\u001B[0;32m--> 166\u001B[0;31m             \u001B[0mself\u001B[0m\u001B[0;34m.\u001B[0m\u001B[0m_update_fun_impl\u001B[0m\u001B[0;34m(\u001B[0m\u001B[0;34m)\u001B[0m\u001B[0;34m\u001B[0m\u001B[0;34m\u001B[0m\u001B[0m\n\u001B[0m\u001B[1;32m    167\u001B[0m             \u001B[0mself\u001B[0m\u001B[0;34m.\u001B[0m\u001B[0mf_updated\u001B[0m \u001B[0;34m=\u001B[0m \u001B[0;32mTrue\u001B[0m\u001B[0;34m\u001B[0m\u001B[0;34m\u001B[0m\u001B[0m\n\u001B[1;32m    168\u001B[0m \u001B[0;34m\u001B[0m\u001B[0m\n",
      "\u001B[0;32m~/anaconda3/envs/Research/lib/python3.8/site-packages/scipy/optimize/_differentiable_functions.py\u001B[0m in \u001B[0;36mupdate_fun\u001B[0;34m()\u001B[0m\n\u001B[1;32m     71\u001B[0m \u001B[0;34m\u001B[0m\u001B[0m\n\u001B[1;32m     72\u001B[0m         \u001B[0;32mdef\u001B[0m \u001B[0mupdate_fun\u001B[0m\u001B[0;34m(\u001B[0m\u001B[0;34m)\u001B[0m\u001B[0;34m:\u001B[0m\u001B[0;34m\u001B[0m\u001B[0;34m\u001B[0m\u001B[0m\n\u001B[0;32m---> 73\u001B[0;31m             \u001B[0mself\u001B[0m\u001B[0;34m.\u001B[0m\u001B[0mf\u001B[0m \u001B[0;34m=\u001B[0m \u001B[0mfun_wrapped\u001B[0m\u001B[0;34m(\u001B[0m\u001B[0mself\u001B[0m\u001B[0;34m.\u001B[0m\u001B[0mx\u001B[0m\u001B[0;34m)\u001B[0m\u001B[0;34m\u001B[0m\u001B[0;34m\u001B[0m\u001B[0m\n\u001B[0m\u001B[1;32m     74\u001B[0m \u001B[0;34m\u001B[0m\u001B[0m\n\u001B[1;32m     75\u001B[0m         \u001B[0mself\u001B[0m\u001B[0;34m.\u001B[0m\u001B[0m_update_fun_impl\u001B[0m \u001B[0;34m=\u001B[0m \u001B[0mupdate_fun\u001B[0m\u001B[0;34m\u001B[0m\u001B[0;34m\u001B[0m\u001B[0m\n",
      "\u001B[0;32m~/anaconda3/envs/Research/lib/python3.8/site-packages/scipy/optimize/_differentiable_functions.py\u001B[0m in \u001B[0;36mfun_wrapped\u001B[0;34m(x)\u001B[0m\n\u001B[1;32m     68\u001B[0m         \u001B[0;32mdef\u001B[0m \u001B[0mfun_wrapped\u001B[0m\u001B[0;34m(\u001B[0m\u001B[0mx\u001B[0m\u001B[0;34m)\u001B[0m\u001B[0;34m:\u001B[0m\u001B[0;34m\u001B[0m\u001B[0;34m\u001B[0m\u001B[0m\n\u001B[1;32m     69\u001B[0m             \u001B[0mself\u001B[0m\u001B[0;34m.\u001B[0m\u001B[0mnfev\u001B[0m \u001B[0;34m+=\u001B[0m \u001B[0;36m1\u001B[0m\u001B[0;34m\u001B[0m\u001B[0;34m\u001B[0m\u001B[0m\n\u001B[0;32m---> 70\u001B[0;31m             \u001B[0;32mreturn\u001B[0m \u001B[0mfun\u001B[0m\u001B[0;34m(\u001B[0m\u001B[0mx\u001B[0m\u001B[0;34m,\u001B[0m \u001B[0;34m*\u001B[0m\u001B[0margs\u001B[0m\u001B[0;34m)\u001B[0m\u001B[0;34m\u001B[0m\u001B[0;34m\u001B[0m\u001B[0m\n\u001B[0m\u001B[1;32m     71\u001B[0m \u001B[0;34m\u001B[0m\u001B[0m\n\u001B[1;32m     72\u001B[0m         \u001B[0;32mdef\u001B[0m \u001B[0mupdate_fun\u001B[0m\u001B[0;34m(\u001B[0m\u001B[0;34m)\u001B[0m\u001B[0;34m:\u001B[0m\u001B[0;34m\u001B[0m\u001B[0;34m\u001B[0m\u001B[0m\n",
      "\u001B[0;32m<ipython-input-6-3ade15be3262>\u001B[0m in \u001B[0;36m<lambda>\u001B[0;34m(*x)\u001B[0m\n\u001B[1;32m     19\u001B[0m \u001B[0;34m\u001B[0m\u001B[0m\n\u001B[1;32m     20\u001B[0m \u001B[0;32mdef\u001B[0m \u001B[0mfind_max_eval\u001B[0m\u001B[0;34m(\u001B[0m\u001B[0meigenvalues\u001B[0m\u001B[0;34m,\u001B[0m \u001B[0mq\u001B[0m\u001B[0;34m,\u001B[0m \u001B[0mbandwidth\u001B[0m\u001B[0;34m)\u001B[0m\u001B[0;34m:\u001B[0m\u001B[0;34m\u001B[0m\u001B[0;34m\u001B[0m\u001B[0m\n\u001B[0;32m---> 21\u001B[0;31m     out = minimize(lambda *x: err_pdfs(*x), 0.5, args=(eigenvalues, q, bandwidth),\n\u001B[0m\u001B[1;32m     22\u001B[0m                    bounds=((1E-5, 1-1E-5),))\n\u001B[1;32m     23\u001B[0m \u001B[0;34m\u001B[0m\u001B[0m\n",
      "\u001B[0;32m<ipython-input-6-3ade15be3262>\u001B[0m in \u001B[0;36merr_pdfs\u001B[0;34m(var, eigenvalues, q, bandwidth, points)\u001B[0m\n\u001B[1;32m     13\u001B[0m \u001B[0;34m\u001B[0m\u001B[0m\n\u001B[1;32m     14\u001B[0m \u001B[0;32mdef\u001B[0m \u001B[0merr_pdfs\u001B[0m\u001B[0;34m(\u001B[0m\u001B[0mvar\u001B[0m\u001B[0;34m,\u001B[0m \u001B[0meigenvalues\u001B[0m\u001B[0;34m,\u001B[0m \u001B[0mq\u001B[0m\u001B[0;34m,\u001B[0m \u001B[0mbandwidth\u001B[0m\u001B[0;34m,\u001B[0m \u001B[0mpoints\u001B[0m\u001B[0;34m=\u001B[0m\u001B[0;36m1000\u001B[0m\u001B[0;34m)\u001B[0m\u001B[0;34m:\u001B[0m\u001B[0;34m\u001B[0m\u001B[0;34m\u001B[0m\u001B[0m\n\u001B[0;32m---> 15\u001B[0;31m     \u001B[0mpdf0\u001B[0m \u001B[0;34m=\u001B[0m \u001B[0mmp_pdf\u001B[0m\u001B[0;34m(\u001B[0m\u001B[0mvar\u001B[0m\u001B[0;34m,\u001B[0m \u001B[0mq\u001B[0m\u001B[0;34m,\u001B[0m \u001B[0mpoints\u001B[0m\u001B[0;34m)\u001B[0m\u001B[0;34m\u001B[0m\u001B[0;34m\u001B[0m\u001B[0m\n\u001B[0m\u001B[1;32m     16\u001B[0m     \u001B[0mpdf1\u001B[0m \u001B[0;34m=\u001B[0m \u001B[0mfit_kde\u001B[0m\u001B[0;34m(\u001B[0m\u001B[0meigenvalues\u001B[0m\u001B[0;34m,\u001B[0m \u001B[0mbandwidth\u001B[0m\u001B[0;34m,\u001B[0m \u001B[0mx\u001B[0m\u001B[0;34m=\u001B[0m\u001B[0mpdf0\u001B[0m\u001B[0;34m.\u001B[0m\u001B[0mindex\u001B[0m\u001B[0;34m.\u001B[0m\u001B[0mvalues\u001B[0m\u001B[0;34m)\u001B[0m\u001B[0;34m\u001B[0m\u001B[0;34m\u001B[0m\u001B[0m\n\u001B[1;32m     17\u001B[0m     \u001B[0msse\u001B[0m \u001B[0;34m=\u001B[0m \u001B[0mnp\u001B[0m\u001B[0;34m.\u001B[0m\u001B[0msum\u001B[0m\u001B[0;34m(\u001B[0m\u001B[0;34m(\u001B[0m\u001B[0mpdf1\u001B[0m \u001B[0;34m-\u001B[0m \u001B[0mpdf0\u001B[0m\u001B[0;34m)\u001B[0m\u001B[0;34m**\u001B[0m\u001B[0;36m2\u001B[0m\u001B[0;34m)\u001B[0m\u001B[0;34m\u001B[0m\u001B[0;34m\u001B[0m\u001B[0m\n",
      "\u001B[0;32m<ipython-input-2-583c244d5320>\u001B[0m in \u001B[0;36mmp_pdf\u001B[0;34m(var, q, points)\u001B[0m\n\u001B[1;32m     16\u001B[0m     \u001B[0meigen_values\u001B[0m \u001B[0;34m=\u001B[0m \u001B[0mnp\u001B[0m\u001B[0;34m.\u001B[0m\u001B[0mlinspace\u001B[0m\u001B[0;34m(\u001B[0m\u001B[0meigen_min\u001B[0m\u001B[0;34m,\u001B[0m \u001B[0meigen_max\u001B[0m\u001B[0;34m,\u001B[0m \u001B[0mpoints\u001B[0m\u001B[0;34m)\u001B[0m\u001B[0;34m\u001B[0m\u001B[0;34m\u001B[0m\u001B[0m\n\u001B[1;32m     17\u001B[0m     \u001B[0mpdf\u001B[0m \u001B[0;34m=\u001B[0m \u001B[0mq\u001B[0m\u001B[0;34m/\u001B[0m\u001B[0;34m(\u001B[0m\u001B[0;36m2\u001B[0m\u001B[0;34m*\u001B[0m\u001B[0mnp\u001B[0m\u001B[0;34m.\u001B[0m\u001B[0mpi\u001B[0m\u001B[0;34m*\u001B[0m\u001B[0mvar\u001B[0m\u001B[0;34m*\u001B[0m\u001B[0meigen_values\u001B[0m\u001B[0;34m)\u001B[0m\u001B[0;34m*\u001B[0m\u001B[0;34m(\u001B[0m\u001B[0;34m(\u001B[0m\u001B[0meigen_max\u001B[0m\u001B[0;34m-\u001B[0m\u001B[0meigen_values\u001B[0m\u001B[0;34m)\u001B[0m\u001B[0;34m*\u001B[0m\u001B[0;34m(\u001B[0m\u001B[0meigen_values\u001B[0m\u001B[0;34m-\u001B[0m\u001B[0meigen_min\u001B[0m\u001B[0;34m)\u001B[0m\u001B[0;34m)\u001B[0m\u001B[0;34m**\u001B[0m\u001B[0;36m.5\u001B[0m\u001B[0;34m\u001B[0m\u001B[0;34m\u001B[0m\u001B[0m\n\u001B[0;32m---> 18\u001B[0;31m     \u001B[0mpdf\u001B[0m \u001B[0;34m=\u001B[0m \u001B[0mpd\u001B[0m\u001B[0;34m.\u001B[0m\u001B[0mSeries\u001B[0m\u001B[0;34m(\u001B[0m\u001B[0mpdf\u001B[0m\u001B[0;34m,\u001B[0m \u001B[0mindex\u001B[0m\u001B[0;34m=\u001B[0m\u001B[0meigen_values\u001B[0m\u001B[0;34m)\u001B[0m\u001B[0;34m\u001B[0m\u001B[0;34m\u001B[0m\u001B[0m\n\u001B[0m\u001B[1;32m     19\u001B[0m     \u001B[0;32mreturn\u001B[0m \u001B[0mpdf\u001B[0m\u001B[0;34m\u001B[0m\u001B[0;34m\u001B[0m\u001B[0m\n\u001B[1;32m     20\u001B[0m \u001B[0;34m\u001B[0m\u001B[0m\n",
      "\u001B[0;32m~/anaconda3/envs/Research/lib/python3.8/site-packages/pandas/core/series.py\u001B[0m in \u001B[0;36m__init__\u001B[0;34m(self, data, index, dtype, name, copy, fastpath)\u001B[0m\n\u001B[1;32m    213\u001B[0m \u001B[0;34m\u001B[0m\u001B[0m\n\u001B[1;32m    214\u001B[0m             \u001B[0;32mif\u001B[0m \u001B[0mindex\u001B[0m \u001B[0;32mis\u001B[0m \u001B[0;32mnot\u001B[0m \u001B[0;32mNone\u001B[0m\u001B[0;34m:\u001B[0m\u001B[0;34m\u001B[0m\u001B[0;34m\u001B[0m\u001B[0m\n\u001B[0;32m--> 215\u001B[0;31m                 \u001B[0mindex\u001B[0m \u001B[0;34m=\u001B[0m \u001B[0mensure_index\u001B[0m\u001B[0;34m(\u001B[0m\u001B[0mindex\u001B[0m\u001B[0;34m)\u001B[0m\u001B[0;34m\u001B[0m\u001B[0;34m\u001B[0m\u001B[0m\n\u001B[0m\u001B[1;32m    216\u001B[0m \u001B[0;34m\u001B[0m\u001B[0m\n\u001B[1;32m    217\u001B[0m             \u001B[0;32mif\u001B[0m \u001B[0mdata\u001B[0m \u001B[0;32mis\u001B[0m \u001B[0;32mNone\u001B[0m\u001B[0;34m:\u001B[0m\u001B[0;34m\u001B[0m\u001B[0;34m\u001B[0m\u001B[0m\n",
      "\u001B[0;32m~/anaconda3/envs/Research/lib/python3.8/site-packages/pandas/core/indexes/base.py\u001B[0m in \u001B[0;36mensure_index\u001B[0;34m(index_like, copy)\u001B[0m\n\u001B[1;32m   5356\u001B[0m             \u001B[0mindex_like\u001B[0m \u001B[0;34m=\u001B[0m \u001B[0mcopy\u001B[0m\u001B[0;34m(\u001B[0m\u001B[0mindex_like\u001B[0m\u001B[0;34m)\u001B[0m\u001B[0;34m\u001B[0m\u001B[0;34m\u001B[0m\u001B[0m\n\u001B[1;32m   5357\u001B[0m \u001B[0;34m\u001B[0m\u001B[0m\n\u001B[0;32m-> 5358\u001B[0;31m     \u001B[0;32mreturn\u001B[0m \u001B[0mIndex\u001B[0m\u001B[0;34m(\u001B[0m\u001B[0mindex_like\u001B[0m\u001B[0;34m)\u001B[0m\u001B[0;34m\u001B[0m\u001B[0;34m\u001B[0m\u001B[0m\n\u001B[0m\u001B[1;32m   5359\u001B[0m \u001B[0;34m\u001B[0m\u001B[0m\n\u001B[1;32m   5360\u001B[0m \u001B[0;34m\u001B[0m\u001B[0m\n",
      "\u001B[0;32m~/anaconda3/envs/Research/lib/python3.8/site-packages/pandas/core/indexes/base.py\u001B[0m in \u001B[0;36m__new__\u001B[0;34m(cls, data, dtype, copy, name, tupleize_cols, **kwargs)\u001B[0m\n\u001B[1;32m    392\u001B[0m                 \u001B[0;32mreturn\u001B[0m \u001B[0mUInt64Index\u001B[0m\u001B[0;34m(\u001B[0m\u001B[0mdata\u001B[0m\u001B[0;34m,\u001B[0m \u001B[0mcopy\u001B[0m\u001B[0;34m=\u001B[0m\u001B[0mcopy\u001B[0m\u001B[0;34m,\u001B[0m \u001B[0mdtype\u001B[0m\u001B[0;34m=\u001B[0m\u001B[0mdtype\u001B[0m\u001B[0;34m,\u001B[0m \u001B[0mname\u001B[0m\u001B[0;34m=\u001B[0m\u001B[0mname\u001B[0m\u001B[0;34m)\u001B[0m\u001B[0;34m\u001B[0m\u001B[0;34m\u001B[0m\u001B[0m\n\u001B[1;32m    393\u001B[0m             \u001B[0;32melif\u001B[0m \u001B[0mis_float_dtype\u001B[0m\u001B[0;34m(\u001B[0m\u001B[0mdata\u001B[0m\u001B[0;34m.\u001B[0m\u001B[0mdtype\u001B[0m\u001B[0;34m)\u001B[0m\u001B[0;34m:\u001B[0m\u001B[0;34m\u001B[0m\u001B[0;34m\u001B[0m\u001B[0m\n\u001B[0;32m--> 394\u001B[0;31m                 \u001B[0;32mreturn\u001B[0m \u001B[0mFloat64Index\u001B[0m\u001B[0;34m(\u001B[0m\u001B[0mdata\u001B[0m\u001B[0;34m,\u001B[0m \u001B[0mcopy\u001B[0m\u001B[0;34m=\u001B[0m\u001B[0mcopy\u001B[0m\u001B[0;34m,\u001B[0m \u001B[0mdtype\u001B[0m\u001B[0;34m=\u001B[0m\u001B[0mdtype\u001B[0m\u001B[0;34m,\u001B[0m \u001B[0mname\u001B[0m\u001B[0;34m=\u001B[0m\u001B[0mname\u001B[0m\u001B[0;34m)\u001B[0m\u001B[0;34m\u001B[0m\u001B[0;34m\u001B[0m\u001B[0m\n\u001B[0m\u001B[1;32m    395\u001B[0m             \u001B[0;32melif\u001B[0m \u001B[0missubclass\u001B[0m\u001B[0;34m(\u001B[0m\u001B[0mdata\u001B[0m\u001B[0;34m.\u001B[0m\u001B[0mdtype\u001B[0m\u001B[0;34m.\u001B[0m\u001B[0mtype\u001B[0m\u001B[0;34m,\u001B[0m \u001B[0mnp\u001B[0m\u001B[0;34m.\u001B[0m\u001B[0mbool\u001B[0m\u001B[0;34m)\u001B[0m \u001B[0;32mor\u001B[0m \u001B[0mis_bool_dtype\u001B[0m\u001B[0;34m(\u001B[0m\u001B[0mdata\u001B[0m\u001B[0;34m)\u001B[0m\u001B[0;34m:\u001B[0m\u001B[0;34m\u001B[0m\u001B[0;34m\u001B[0m\u001B[0m\n\u001B[1;32m    396\u001B[0m                 \u001B[0msubarr\u001B[0m \u001B[0;34m=\u001B[0m \u001B[0mdata\u001B[0m\u001B[0;34m.\u001B[0m\u001B[0mastype\u001B[0m\u001B[0;34m(\u001B[0m\u001B[0;34m\"object\"\u001B[0m\u001B[0;34m)\u001B[0m\u001B[0;34m\u001B[0m\u001B[0;34m\u001B[0m\u001B[0m\n",
      "\u001B[0;32m~/anaconda3/envs/Research/lib/python3.8/site-packages/pandas/core/indexes/numeric.py\u001B[0m in \u001B[0;36m__new__\u001B[0;34m(cls, data, dtype, copy, name)\u001B[0m\n\u001B[1;32m     76\u001B[0m         \u001B[0;32mif\u001B[0m \u001B[0msubarr\u001B[0m\u001B[0;34m.\u001B[0m\u001B[0mndim\u001B[0m \u001B[0;34m>\u001B[0m \u001B[0;36m1\u001B[0m\u001B[0;34m:\u001B[0m\u001B[0;34m\u001B[0m\u001B[0;34m\u001B[0m\u001B[0m\n\u001B[1;32m     77\u001B[0m             \u001B[0;31m# GH#13601, GH#20285, GH#27125\u001B[0m\u001B[0;34m\u001B[0m\u001B[0;34m\u001B[0m\u001B[0;34m\u001B[0m\u001B[0m\n\u001B[0;32m---> 78\u001B[0;31m             \u001B[0;32mraise\u001B[0m \u001B[0mValueError\u001B[0m\u001B[0;34m(\u001B[0m\u001B[0;34m\"Index data must be 1-dimensional\"\u001B[0m\u001B[0;34m)\u001B[0m\u001B[0;34m\u001B[0m\u001B[0;34m\u001B[0m\u001B[0m\n\u001B[0m\u001B[1;32m     79\u001B[0m \u001B[0;34m\u001B[0m\u001B[0m\n\u001B[1;32m     80\u001B[0m         \u001B[0mname\u001B[0m \u001B[0;34m=\u001B[0m \u001B[0mmaybe_extract_name\u001B[0m\u001B[0;34m(\u001B[0m\u001B[0mname\u001B[0m\u001B[0;34m,\u001B[0m \u001B[0mdata\u001B[0m\u001B[0;34m,\u001B[0m \u001B[0mcls\u001B[0m\u001B[0;34m)\u001B[0m\u001B[0;34m\u001B[0m\u001B[0;34m\u001B[0m\u001B[0m\n",
      "\u001B[0;31mValueError\u001B[0m: Index data must be 1-dimensional"
     ]
    }
   ],
   "source": [
    "alpha = 0.995\n",
    "columns_number = 1000\n",
    "facts_number = 100\n",
    "q = 10\n",
    "\n",
    "covariance = np.cov(np.random.normal(size=(columns_number*q, columns_number)), rowvar=False)\n",
    "covariance = alpha*covariance + (1-alpha)*get_random_covariance(columns_number, facts_number)\n",
    "\n",
    "corr0 = cov_to_corr(covariance)\n",
    "eval0, evec0 = get_pca(corr0)\n",
    "\n",
    "from scipy.optimize import minimize\n",
    "\n",
    "def err_pdfs(var, eigenvalues, q, bandwidth, points=1000):\n",
    "    pdf0 = mp_pdf(var, q, points)\n",
    "    pdf1 = fit_kde(eigenvalues, bandwidth, x=pdf0.index.values)\n",
    "    sse = np.sum((pdf1 - pdf0)**2)\n",
    "    return sse\n",
    "\n",
    "def find_max_eval(eigenvalues, q, bandwidth):\n",
    "    out = minimize(lambda *x: err_pdfs(*x), 0.5, args=(eigenvalues, q, bandwidth),\n",
    "                   bounds=((1E-5, 1-1E-5),))\n",
    "\n",
    "    if out['success']:\n",
    "        var = out['x'][0]\n",
    "    else:\n",
    "        var = 1\n",
    "    eigen_max = var*(1+(1./q)**0.5)**2\n",
    "    return eigen_max, var\n",
    "\n",
    "emax0, var0 = find_max_eval(np.diag(eval0), q, bandwidth=0.01)\n",
    "facts_number0 = eval0.shape[0] - np.diag(eval0)[::-1].searchsorted(emax0)"
   ],
   "metadata": {
    "collapsed": false,
    "pycharm": {
     "name": "#%%\n"
    }
   }
  },
  {
   "cell_type": "code",
   "execution_count": null,
   "outputs": [],
   "source": [
    "def denoised_corr(eigenvalues,eigenvector,facts_number):\n",
    "# Remove noise from corr by fixing random eigenvalues\n",
    "    eigenvalues_=np.diag(eigenvalues).copy()\n",
    "    eigenvalues_[facts_number:]=eigenvalues_[facts_number:].sum()/float(eigenvalues_.shape[0]-facts_number)\n",
    "    eigenvalues_=np.diag(eigenvalues_)\n",
    "    corr=np.dot(eigenvalues,eigenvalues_).dot(eigenvector.T)\n",
    "    corrç=cov_to_corr(corr)\n",
    "    return corr1\n",
    "#--------------------------------------------------- corr1=denoisedCorr(eVal0,eVec0,nFacts0) eVal1,eVec1=getPCA(corr1)\n",
    "\n"
   ],
   "metadata": {
    "collapsed": false,
    "pycharm": {
     "name": "#%%\n"
    }
   }
  }
 ],
 "metadata": {
  "kernelspec": {
   "name": "python3",
   "language": "python",
   "display_name": "Python 3"
  },
  "language_info": {
   "codemirror_mode": {
    "name": "ipython",
    "version": 2
   },
   "file_extension": ".py",
   "mimetype": "text/x-python",
   "name": "python",
   "nbconvert_exporter": "python",
   "pygments_lexer": "ipython2",
   "version": "2.7.6"
  }
 },
 "nbformat": 4,
 "nbformat_minor": 0
}
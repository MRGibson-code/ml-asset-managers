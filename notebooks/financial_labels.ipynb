{
 "cells": [
  {
   "cell_type": "markdown",
   "metadata": {
    "pycharm": {
     "name": "#%% md\n"
    }
   },
   "source": [
    "# Financial Labels"
   ]
  },
  {
   "cell_type": "code",
   "execution_count": 8,
   "metadata": {
    "pycharm": {
     "name": "#%%\n"
    }
   },
   "outputs": [],
   "source": [
    "import numpy as np\n",
    "import pandas as pd \n",
    "\n",
    "import matplotlib as mpl\n",
    "import matplotlib.pyplot as plt\n",
    "\n",
    "%matplotlib inline\n",
    "plt.style.use('ggplot')\n",
    "plt.style.use('ggplot')\n",
    "plt.rcParams['figure.figsize'] = 10,7\n",
    "\n",
    "import sys\n",
    "sys.path.append('../src')"
   ]
  },
  {
   "cell_type": "markdown",
   "metadata": {
    "pycharm": {
     "name": "#%% md\n"
    }
   },
   "source": [
    "1. Given the time series of E-mini S&P 500 futures, compute labels on one minute\n",
    "time bars using the fixed horizon method, where $\\tau$ is set at two standard deviations of one-minute returns\n"
   ]
  },
  {
   "cell_type": "markdown",
   "metadata": {},
   "source": [
    "Retrieving and cleaning the time series of E-mini S&P 500 futures.\n",
    "\n",
    "Download the data from: http://www.kibot.com/buy.aspx at the: \"Free historical data for your data quality analysis\" section\n",
    "\n",
    "We have the data from the WDC stock and the iShares IVE ETF: https://www.ishares.com/us/products/239728/ishares-sp-500-value-etf\n",
    "\n",
    "Tick Data info from kibot\n",
    "http://www.kibot.com/support.aspx#data_format\n",
    "\n",
    "- The order of the fields in the tick files (with bid/ask prices) is: Date,Time,Price,Bid,Ask,Size.\n",
    "- The bid/ask prices are recorded whenever a trade occurs and they represent the \"national best bid and offer\" (NBBO) prices across multiple exchanges and ECNs.\n",
    "- For each trade, current best bid/ask values are recorded together with the transaction price and volume. Trade records are not aggregated and all transactions are included in their consecutive order.\n",
    "- The order of fields in our regular tick files (without bid/ask) is: Date,Time,Price,Size.\n",
    "- The order of fields in our 1, 5 or 10 second files is: Date,Time,Open,High,Low,Close,Volume. It is the same format used in our minute files.\n",
    "- The stocks and ETFs data includes pre-market (8:00-9:30 a.m. ET), regular (9:30 a.m.-4:00 p.m. ET.) and after market (4:00-6:30 p.m. ET) sessions.\n",
    "- Trading for SPY (SPDR S&P 500 ETF) and some other liquid ETFs and stocks usually starts at 4 a.m and ends at 8 p.m. ET."
   ]
  },
  {
   "cell_type": "code",
   "execution_count": 7,
   "metadata": {
    "pycharm": {
     "is_executing": true,
     "name": "#%%\n"
    }
   },
   "outputs": [
    {
     "data": {
      "image/png": "[encoded data removed]",
      "text/plain": [
       "<Figure size 432x288 with 1 Axes>"
      ]
     },
     "metadata": {
      "needs_background": "light"
     },
     "output_type": "display_data"
    }
   ],
   "source": [
    "def prepare_data(raw_data_path):\n",
    "    df = pd.read_csv(raw_data_path,\n",
    "                     header=None,\n",
    "                     names=['day', 'time', 'price', 'bid', 'ask', 'vol'])\n",
    "    df['date'] = pd.to_datetime(df['day'] + df['time'],\n",
    "                                format='%m/%d/%Y%H:%M:%S')\n",
    "    df['dollar_vol'] = df['price']*df['vol']\n",
    "    df = df.set_index('date')\n",
    "    df = df.drop(['day', 'time'],\n",
    "                 axis=1)\n",
    "    return df\n",
    "\n",
    "\n",
    "raw_data_path = '../data/IVE_tickbidask.txt'\n",
    "df = prepare_data(raw_data_path)\n",
    "\n",
    "fig, ax = plt.subplots()\n",
    "_ = ax.boxplot(df.price)"
   ]
  },
  {
   "cell_type": "markdown",
   "metadata": {},
   "source": [
    "Labels computation on one minute time bars using the fixed horizon method, where\n",
    "$\\tau = 2 \\times \\sigma$ where $\\sigma$ is the standard deviations of one-minute returns\n"
   ]
  },
  {
   "cell_type": "code",
   "execution_count": null,
   "metadata": {
    "pycharm": {
     "name": "#%%\n"
    }
   },
   "outputs": [],
   "source": []
  },
  {
   "cell_type": "markdown",
   "metadata": {},
   "source": [
    "The labels' Distribution"
   ]
  },
  {
   "cell_type": "code",
   "execution_count": null,
   "metadata": {
    "pycharm": {
     "name": "#%%\n"
    }
   },
   "outputs": [],
   "source": []
  },
  {
   "cell_type": "markdown",
   "metadata": {},
   "source": [
    "The labels' distribution across all days, for each hour of the trading session"
   ]
  },
  {
   "cell_type": "code",
   "execution_count": null,
   "metadata": {
    "pycharm": {
     "name": "#%%\n"
    }
   },
   "outputs": [],
   "source": []
  },
  {
   "cell_type": "markdown",
   "metadata": {},
   "source": [
    "Comment "
   ]
  }
 ],
 "metadata": {
  "kernelspec": {
   "display_name": "Python 3",
   "language": "python",
   "name": "python3"
  },
  "language_info": {
   "codemirror_mode": {
    "name": "ipython",
    "version": 3
   },
   "file_extension": ".py",
   "mimetype": "text/x-python",
   "name": "python",
   "nbconvert_exporter": "python",
   "pygments_lexer": "ipython3",
   "version": "3.8.3"
  }
 },
 "nbformat": 4,
 "nbformat_minor": 1
}